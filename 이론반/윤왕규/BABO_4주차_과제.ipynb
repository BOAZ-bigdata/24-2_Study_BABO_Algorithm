{
 "cells": [
  {
   "cell_type": "markdown",
   "metadata": {},
   "source": [
    "## 그리디 알고리즘"
   ]
  },
  {
   "cell_type": "markdown",
   "metadata": {},
   "source": [
    "#### 매 순간 가장 좋아 보이는 것을 선택하여, 현재의 선택이 나중에 미칠 영향에 대해서는 고려하지 않는다"
   ]
  },
  {
   "cell_type": "markdown",
   "metadata": {},
   "source": [
    "#### 대표 문제) 동전 거스름돈"
   ]
  },
  {
   "cell_type": "code",
   "execution_count": 2,
   "metadata": {},
   "outputs": [
    {
     "name": "stdout",
     "output_type": "stream",
     "text": [
      "6\n"
     ]
    }
   ],
   "source": [
    "n = 1260\n",
    "coin = [500,100,50,10]\n",
    "count = 0\n",
    "\n",
    "for i in coin:\n",
    "    count += n // i     # 몫\n",
    "    n %= i               # 나머지\n",
    "\n",
    "print(count)"
   ]
  },
  {
   "cell_type": "markdown",
   "metadata": {},
   "source": [
    "## 과제 1) 백준 1931-회의실 배정"
   ]
  },
  {
   "cell_type": "code",
   "execution_count": 1,
   "metadata": {},
   "outputs": [
    {
     "name": "stdout",
     "output_type": "stream",
     "text": [
      "[[1, 4], [3, 5], [0, 6], [5, 7], [3, 8], [5, 9], [6, 10], [8, 11], [8, 12], [2, 13], [12, 14]]\n",
      "4\n"
     ]
    }
   ],
   "source": [
    "import sys\n",
    "n = int(input())\n",
    "\n",
    "endpoint = 0\n",
    "count = 0\n",
    "\n",
    "arr = []\n",
    "\n",
    "for i in range(n):\n",
    "    a,b = map(int,input().split())\n",
    "    arr.append([a,b])\n",
    "\n",
    "# 끝나는 시간으로 정렬(빨리 끝날수록 회의 많이 진행할 수 있음)\n",
    "arr.sort(key=lambda x: (x[1],x[0]))\n",
    "print(arr)\n",
    "\n",
    "for start,end in arr:\n",
    "    if endpoint <= start:\n",
    "        count += 1\n",
    "        endpoint = end\n",
    "\n",
    "print(count)"
   ]
  },
  {
   "cell_type": "markdown",
   "metadata": {},
   "source": [
    "## 과제 2) 백준 11501-주식"
   ]
  },
  {
   "cell_type": "code",
   "execution_count": 2,
   "metadata": {},
   "outputs": [
    {
     "name": "stdout",
     "output_type": "stream",
     "text": [
      "0\n",
      "10\n",
      "5\n"
     ]
    }
   ],
   "source": [
    "T = int(input())\n",
    "\n",
    "for t in range(T):\n",
    "\n",
    "    N = int(input())\n",
    "    price = list(map(int, input().split()))\n",
    "\n",
    "    money = 0 # 이익\n",
    "\n",
    "    maxPrice = 0 # 주식의 최대 가격\n",
    "    for i in range(len(price)-1, -1, -1):\n",
    "        if price[i] > maxPrice:\n",
    "            maxPrice = price[i]\n",
    "        else: # 현재 가격이 현재 최대 가격보다 작다면 차익 실현\n",
    "            money += maxPrice - price[i]\n",
    "\n",
    "    print(money)"
   ]
  },
  {
   "cell_type": "markdown",
   "metadata": {},
   "source": [
    "## 과제 2) 백준 1912-연속합"
   ]
  },
  {
   "cell_type": "code",
   "execution_count": 3,
   "metadata": {},
   "outputs": [
    {
     "name": "stdout",
     "output_type": "stream",
     "text": [
      "33\n"
     ]
    }
   ],
   "source": [
    "n = int(input())\n",
    "m = list(map(int, input().split()))\n",
    " \n",
    "for i in range(1, n):\n",
    "    m[i] = max(m[i], m[i] + m[i-1])\n",
    "    \n",
    "print(max(m))"
   ]
  }
 ],
 "metadata": {
  "kernelspec": {
   "display_name": "Python 3",
   "language": "python",
   "name": "python3"
  },
  "language_info": {
   "codemirror_mode": {
    "name": "ipython",
    "version": 3
   },
   "file_extension": ".py",
   "mimetype": "text/x-python",
   "name": "python",
   "nbconvert_exporter": "python",
   "pygments_lexer": "ipython3",
   "version": "3.8.19"
  }
 },
 "nbformat": 4,
 "nbformat_minor": 2
}
