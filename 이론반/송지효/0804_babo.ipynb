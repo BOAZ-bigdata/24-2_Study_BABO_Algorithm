{
  "nbformat": 4,
  "nbformat_minor": 0,
  "metadata": {
    "colab": {
      "provenance": []
    },
    "kernelspec": {
      "name": "python3",
      "display_name": "Python 3"
    },
    "language_info": {
      "name": "python"
    }
  },
  "cells": [
    {
      "cell_type": "code",
      "source": [
        "from google.colab import drive\n",
        "drive.mount('/content/drive')"
      ],
      "metadata": {
        "id": "7AYf7jYA27p5"
      },
      "execution_count": null,
      "outputs": []
    },
    {
      "cell_type": "code",
      "source": [
        "#1018번\n",
        "#자를 부분을 선택하는 기준 : 변해야하는 구간이 최대한 많은 곳\n",
        "\n",
        "\n",
        "M,N = map(int,input().split(\" \"))\n",
        "\n",
        "\n",
        "for i in range(M):\n",
        "    board = list(input().split(\" \"))\n",
        "\n",
        "\n",
        "    # 홀수면 검정, 짝수면 흰색 <-> 짝수면 검정, 홀수면 흰색 (처음에 어떤 게 설정 될 지는 모름)\n",
        "    # 짝수 & 홀수 개수가 반반\n",
        "\n",
        "    # 문제 1. 체스 시작 칸 색깔 정하기\n",
        "    # 처음에 무엇인지 결정하고 짝수, 홀수 각각의 칸이 검, 흰이어야 하는지 정해주는 함수가 따로 있어야 한다고 생각함.\n",
        "    # 하지만 해당 과정은 매 과정에서의 if 문으로 어떤 경우가 될 지 모르니 그냥 다 세기 (이 정도 저장하는 건 크게 문제가 되지 않음)\n",
        "\n",
        "    # 문제 2. 체스 판에서의 변경이 필요한 최소 개수 세기\n",
        "    # 8*8 체스판에서의 최소 개수 세는 건 영역을 옮겨야 하는데, 이렇게 하면 시간복잡도가 너무 늘어날 것이라고 생각했음. (근데 그건 n인 경우에만 해당. 체스판은 항상 64임.)\n",
        "    # 그냥 돌면서 64개씩 세어주면 됨. 난 64개씩 세는 거 자체가 약간 무식하다고 생각해서 추가되는 부분, 감소되는 부분을 추가하고 감소하는 과정이 있어야 하지 않을까 했음.\n",
        "\n",
        "    # 내가 제안했던 방식 슬라이딩 윈도우 방식 (조금씩 옮기면서 업데이트하면서 최적의 값 찾기) = 검사해야 하는 대상들이나 찾아야 하는 대상이 무한대일 때 유용함.\n",
        "    # 적은 개수 또는 개수가 적당히 제한되어 있으면 굳이 사용할 필요는 없음.\n",
        "\n",
        "    # Q) 그렇다면 왜 부분수열의 합에서는 슬라이딩 윈도우 방식을 적용할 수 있었던 것인가? 걔는 오히려 개수가 더 적은 거 아닌가?\n",
        "    # A) (체스판 문제)와 (부분 수열의 합 문제)는 문제의 특성이 다름.\n",
        "\n",
        "\n",
        "\n",
        "\n",
        "\n"
      ],
      "metadata": {
        "id": "wGB_yywT3NSD"
      },
      "execution_count": null,
      "outputs": []
    },
    {
      "cell_type": "code",
      "source": [
        "#18870번\n",
        "\n",
        "#리스트 하나 더 생성 -> 모두 0으로 초기화\n",
        "#점수내는 함수 만들기 (큰 쪽에 1점을 추가할 거임. 같으면 아무 일 없음)\n",
        "#최종적으로 점수 리스트만 출력하면 됨\n",
        "\n",
        "#이전에 떠오른 방법 = 이중 반복문이기 때문에 n^2\n",
        "#현재 방법 = n + n-1 + n-2 + .. + 1 해봤자 복잡도는 n임\n",
        "#입력받은 것 2 4 -10 4 -9\n",
        "#점수 리스트 2 3  0  3  1\n",
        "\n",
        "n = int(input())\n",
        "input_list = list(map(int,input().split(\" \")))\n",
        "\n",
        "score_list = [0] * n\n",
        "\n",
        "\n",
        "def compare(index1, index2):\n",
        "  pass\n",
        "def score(bigger_index):\n",
        "  pass\n",
        "def check(index2, smaller_index):\n",
        "  pass\n",
        "\n",
        "def compare(index1,index2):\n",
        "  global score_list\n",
        "  global n\n",
        "\n",
        "  if input_list[index1] != False & input_list[index2] != False & input_list[index1] == input_list[index2]:\n",
        "    #같은 값이 있다면 그 값을 무효화 해줄거임.\n",
        "    #나중에 같은 값에 해당하는 걸 넣어줄거임.\n",
        "    score_list[index2] = False\n",
        "\n",
        "  else :\n",
        "    if input_list[index1] > input_list[index2] :\n",
        "      bigger_index = index1\n",
        "      smaller_index = index2\n",
        "\n",
        "    elif input_list[index1] < input_list[index2] :\n",
        "      bigger_index = index2\n",
        "      smaller_index = index1\n",
        "\n",
        "    if index2 == (n-1) :\n",
        "      score(bigger_index)\n",
        "    else :\n",
        "      if check(index2, smaller_index) :\n",
        "        score(bigger_index)\n",
        "\n",
        "def score(bigger_index):\n",
        "  global score_list\n",
        "\n",
        "  score_list[bigger_index] += 1\n",
        "\n",
        "def check(index2, smaller_index):\n",
        "  global n\n",
        "\n",
        "  i = index2 + 1\n",
        "  while i < n :\n",
        "    if input_list[i] == input_list[smaller_index] :\n",
        "      input_list[i] = False\n",
        "      return False\n",
        "    i += 1\n",
        "\n",
        "  return True\n",
        "\n",
        "\n",
        "for i in range(n-1):\n",
        "  for j in range(i+1,n):\n",
        "    compare(i, j)\n",
        "\n",
        "\n",
        "print(score_list)"
      ],
      "metadata": {
        "colab": {
          "base_uri": "https://localhost:8080/",
          "height": 367
        },
        "id": "_mClcjct3WIL",
        "outputId": "ff7b17d5-fb26-4703-d375-01bef8a4a1ed"
      },
      "execution_count": null,
      "outputs": [
        {
          "name": "stdout",
          "output_type": "stream",
          "text": [
            "6\n",
            "999 1000 999 1000 999 1000\n"
          ]
        },
        {
          "output_type": "error",
          "ename": "UnboundLocalError",
          "evalue": "local variable 'smaller_index' referenced before assignment",
          "traceback": [
            "\u001b[0;31m---------------------------------------------------------------------------\u001b[0m",
            "\u001b[0;31mUnboundLocalError\u001b[0m                         Traceback (most recent call last)",
            "\u001b[0;32m<ipython-input-16-6a2e4ef4a0f3>\u001b[0m in \u001b[0;36m<cell line: 67>\u001b[0;34m()\u001b[0m\n\u001b[1;32m     67\u001b[0m \u001b[0;32mfor\u001b[0m \u001b[0mi\u001b[0m \u001b[0;32min\u001b[0m \u001b[0mrange\u001b[0m\u001b[0;34m(\u001b[0m\u001b[0mn\u001b[0m\u001b[0;34m-\u001b[0m\u001b[0;36m1\u001b[0m\u001b[0;34m)\u001b[0m\u001b[0;34m:\u001b[0m\u001b[0;34m\u001b[0m\u001b[0;34m\u001b[0m\u001b[0m\n\u001b[1;32m     68\u001b[0m   \u001b[0;32mfor\u001b[0m \u001b[0mj\u001b[0m \u001b[0;32min\u001b[0m \u001b[0mrange\u001b[0m\u001b[0;34m(\u001b[0m\u001b[0mi\u001b[0m\u001b[0;34m+\u001b[0m\u001b[0;36m1\u001b[0m\u001b[0;34m,\u001b[0m\u001b[0mn\u001b[0m\u001b[0;34m)\u001b[0m\u001b[0;34m:\u001b[0m\u001b[0;34m\u001b[0m\u001b[0;34m\u001b[0m\u001b[0m\n\u001b[0;32m---> 69\u001b[0;31m     \u001b[0mcompare\u001b[0m\u001b[0;34m(\u001b[0m\u001b[0mi\u001b[0m\u001b[0;34m,\u001b[0m \u001b[0mj\u001b[0m\u001b[0;34m)\u001b[0m\u001b[0;34m\u001b[0m\u001b[0;34m\u001b[0m\u001b[0m\n\u001b[0m\u001b[1;32m     70\u001b[0m \u001b[0;34m\u001b[0m\u001b[0m\n\u001b[1;32m     71\u001b[0m \u001b[0;34m\u001b[0m\u001b[0m\n",
            "\u001b[0;32m<ipython-input-16-6a2e4ef4a0f3>\u001b[0m in \u001b[0;36mcompare\u001b[0;34m(index1, index2)\u001b[0m\n\u001b[1;32m     44\u001b[0m       \u001b[0mscore\u001b[0m\u001b[0;34m(\u001b[0m\u001b[0mbigger_index\u001b[0m\u001b[0;34m)\u001b[0m\u001b[0;34m\u001b[0m\u001b[0;34m\u001b[0m\u001b[0m\n\u001b[1;32m     45\u001b[0m     \u001b[0;32melse\u001b[0m \u001b[0;34m:\u001b[0m\u001b[0;34m\u001b[0m\u001b[0;34m\u001b[0m\u001b[0m\n\u001b[0;32m---> 46\u001b[0;31m       \u001b[0;32mif\u001b[0m \u001b[0mcheck\u001b[0m\u001b[0;34m(\u001b[0m\u001b[0mindex2\u001b[0m\u001b[0;34m,\u001b[0m \u001b[0msmaller_index\u001b[0m\u001b[0;34m)\u001b[0m \u001b[0;34m:\u001b[0m\u001b[0;34m\u001b[0m\u001b[0;34m\u001b[0m\u001b[0m\n\u001b[0m\u001b[1;32m     47\u001b[0m         \u001b[0mscore\u001b[0m\u001b[0;34m(\u001b[0m\u001b[0mbigger_index\u001b[0m\u001b[0;34m)\u001b[0m\u001b[0;34m\u001b[0m\u001b[0;34m\u001b[0m\u001b[0m\n\u001b[1;32m     48\u001b[0m \u001b[0;34m\u001b[0m\u001b[0m\n",
            "\u001b[0;31mUnboundLocalError\u001b[0m: local variable 'smaller_index' referenced before assignment"
          ]
        }
      ]
    },
    {
      "cell_type": "code",
      "source": [
        "#연속된 부분수열의 합\n",
        "\n",
        "\n",
        "sequence, k = eval(input())\n",
        "\n",
        "def solution(sequence, k):\n",
        "    start = len(sequence)-1\n",
        "    end = len(sequence)-1\n",
        "    total = sequence[start]\n",
        "    min_len = len(sequence)\n",
        "    final_start = start\n",
        "    final_end = end\n",
        "\n",
        "    while True:\n",
        "        if total == k or start == end == 0:\n",
        "            lens = end - start + 1\n",
        "            if min_len >= lens :\n",
        "                min_len = lens\n",
        "                final_start = start\n",
        "                final_end = end\n",
        "\n",
        "            end -= 1\n",
        "            total += sequence[end]\n",
        "\n",
        "        elif total < k:\n",
        "            if end != 0 and start > end:\n",
        "                end -= 1\n",
        "                total += sequence[end]\n",
        "            else :\n",
        "                break\n",
        "\n",
        "        elif total > k:\n",
        "            if start == end:\n",
        "                start -= 1\n",
        "                end -= 1\n",
        "                total = sequence[start]\n",
        "\n",
        "            elif start != 0 and start > end:\n",
        "                total -= sequence[start]\n",
        "                start -= 1\n",
        "            else :\n",
        "                break\n",
        "\n",
        "        else :\n",
        "            continue\n",
        "\n",
        "    answer = [final_start,final_end]\n",
        "    return answer\n",
        "\n",
        "print(solution(sequence, k))\n"
      ],
      "metadata": {
        "colab": {
          "base_uri": "https://localhost:8080/",
          "height": 332
        },
        "id": "TnCaKFqp3NUz",
        "outputId": "5c225d4c-24e1-41b6-e361-cd82e10da533"
      },
      "execution_count": null,
      "outputs": [
        {
          "output_type": "error",
          "ename": "UnboundLocalError",
          "evalue": "local variable 'smaller_index' referenced before assignment",
          "traceback": [
            "\u001b[0;31m---------------------------------------------------------------------------\u001b[0m",
            "\u001b[0;31mUnboundLocalError\u001b[0m                         Traceback (most recent call last)",
            "\u001b[0;32m<ipython-input-12-ffa8a0a91976>\u001b[0m in \u001b[0;36m<cell line: 41>\u001b[0;34m()\u001b[0m\n\u001b[1;32m     41\u001b[0m \u001b[0;32mfor\u001b[0m \u001b[0mi\u001b[0m \u001b[0;32min\u001b[0m \u001b[0mrange\u001b[0m\u001b[0;34m(\u001b[0m\u001b[0mn\u001b[0m\u001b[0;34m-\u001b[0m\u001b[0;36m1\u001b[0m\u001b[0;34m)\u001b[0m\u001b[0;34m:\u001b[0m\u001b[0;34m\u001b[0m\u001b[0;34m\u001b[0m\u001b[0m\n\u001b[1;32m     42\u001b[0m   \u001b[0;32mfor\u001b[0m \u001b[0mj\u001b[0m \u001b[0;32min\u001b[0m \u001b[0mrange\u001b[0m\u001b[0;34m(\u001b[0m\u001b[0mi\u001b[0m\u001b[0;34m+\u001b[0m\u001b[0;36m1\u001b[0m\u001b[0;34m,\u001b[0m\u001b[0mn\u001b[0m\u001b[0;34m)\u001b[0m\u001b[0;34m:\u001b[0m\u001b[0;34m\u001b[0m\u001b[0;34m\u001b[0m\u001b[0m\n\u001b[0;32m---> 43\u001b[0;31m     \u001b[0mcompare\u001b[0m\u001b[0;34m(\u001b[0m\u001b[0mi\u001b[0m\u001b[0;34m,\u001b[0m \u001b[0mj\u001b[0m\u001b[0;34m)\u001b[0m\u001b[0;34m\u001b[0m\u001b[0;34m\u001b[0m\u001b[0m\n\u001b[0m\u001b[1;32m     44\u001b[0m \u001b[0;34m\u001b[0m\u001b[0m\n\u001b[1;32m     45\u001b[0m \u001b[0;34m\u001b[0m\u001b[0m\n",
            "\u001b[0;32m<ipython-input-12-ffa8a0a91976>\u001b[0m in \u001b[0;36mcompare\u001b[0;34m(index1, index2)\u001b[0m\n\u001b[1;32m     19\u001b[0m       \u001b[0mscore\u001b[0m\u001b[0;34m(\u001b[0m\u001b[0mbigger_index\u001b[0m\u001b[0;34m)\u001b[0m\u001b[0;34m\u001b[0m\u001b[0;34m\u001b[0m\u001b[0m\n\u001b[1;32m     20\u001b[0m     \u001b[0;32melse\u001b[0m \u001b[0;34m:\u001b[0m\u001b[0;34m\u001b[0m\u001b[0;34m\u001b[0m\u001b[0m\n\u001b[0;32m---> 21\u001b[0;31m       \u001b[0;32mif\u001b[0m \u001b[0mcheck\u001b[0m\u001b[0;34m(\u001b[0m\u001b[0mindex2\u001b[0m\u001b[0;34m,\u001b[0m \u001b[0msmaller_index\u001b[0m\u001b[0;34m)\u001b[0m \u001b[0;34m:\u001b[0m\u001b[0;34m\u001b[0m\u001b[0;34m\u001b[0m\u001b[0m\n\u001b[0m\u001b[1;32m     22\u001b[0m         \u001b[0mscore\u001b[0m\u001b[0;34m(\u001b[0m\u001b[0mbigger_index\u001b[0m\u001b[0;34m)\u001b[0m\u001b[0;34m\u001b[0m\u001b[0;34m\u001b[0m\u001b[0m\n\u001b[1;32m     23\u001b[0m \u001b[0;34m\u001b[0m\u001b[0m\n",
            "\u001b[0;31mUnboundLocalError\u001b[0m: local variable 'smaller_index' referenced before assignment"
          ]
        }
      ]
    },
    {
      "cell_type": "code",
      "source": [],
      "metadata": {
        "id": "zIODzRD53NWk"
      },
      "execution_count": null,
      "outputs": []
    },
    {
      "cell_type": "code",
      "source": [],
      "metadata": {
        "id": "p05KSwGv3NYm"
      },
      "execution_count": null,
      "outputs": []
    },
    {
      "cell_type": "code",
      "source": [],
      "metadata": {
        "id": "1SnM3HW03NcP"
      },
      "execution_count": null,
      "outputs": []
    },
    {
      "cell_type": "code",
      "source": [],
      "metadata": {
        "id": "xr-KEc243Nez"
      },
      "execution_count": null,
      "outputs": []
    },
    {
      "cell_type": "code",
      "source": [],
      "metadata": {
        "id": "wTSXDgp43NhN"
      },
      "execution_count": null,
      "outputs": []
    },
    {
      "cell_type": "code",
      "source": [],
      "metadata": {
        "id": "PwuCikFA3Njp"
      },
      "execution_count": null,
      "outputs": []
    }
  ]
}