{
 "cells": [
  {
   "cell_type": "markdown",
   "metadata": {},
   "source": [
    "### 2번\n",
    "[백준 1182](https://www.acmicpc.net/problem/1182)\n",
    "\n",
    "문제 해결 아이디어 및 고려할점\n",
    "\n",
    "1. 전체 부분 수열에 대해서 고려하면 될 듯 \n",
    "\n",
    "2. 해당 위치 수열값을 더하거나 건너뛰거나 < 반복하는 재귀함수 \n",
    "\n",
    "- 시간 복잡도 : "
   ]
  },
  {
   "cell_type": "code",
   "execution_count": null,
   "metadata": {},
   "outputs": [
    {
     "name": "stdout",
     "output_type": "stream",
     "text": [
      "1\n"
     ]
    }
   ],
   "source": [
    "# 1. combination\n",
    "from itertools import combinations\n",
    "\n",
    "N, S = map(int, input().split())\n",
    "li = list(map(int, input().split()))\n",
    "\n",
    "res = 0\n",
    "for i in range (1, N+1):\n",
    "    for sub in combinations(li, i):\n",
    "        if sum(sub) == S:\n",
    "            res += 1\n",
    "\n",
    "print(res)\n"
   ]
  }
 ],
 "metadata": {
  "language_info": {
   "name": "python"
  }
 },
 "nbformat": 4,
 "nbformat_minor": 2
}
