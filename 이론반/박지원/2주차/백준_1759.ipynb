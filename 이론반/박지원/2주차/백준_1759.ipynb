{
 "cells": [
  {
   "cell_type": "markdown",
   "metadata": {},
   "source": [
    "### 3번\n",
    "[백준 1759](https://www.acmicpc.net/problem/1759)\n",
    "\n",
    "문제 해결 아이디어 및 고려할점\n",
    "\n",
    "1. 다 만든다음에 조건(서로 다른 L개 알파벳, 최소 1개의 모음, 최소 2개의 자음)안 맞으면 pass하고, 맞으면 출력? \n",
    "\n",
    "2. 암호 길이가 만족하면 조건 계산해서 return, 만족하지 않으면 +1 < 재귀\n",
    "\n",
    "- 시간 복잡도 :"
   ]
  },
  {
   "cell_type": "code",
   "execution_count": null,
   "metadata": {},
   "outputs": [],
   "source": [
    "# 1 . combination으로 풀기 \n",
    "from itertools import combinations\n",
    "\n",
    "L, C = map(int, input().split())\n",
    "li = input().split()\n",
    "\n",
    "password = combinations(sorted(li), L)\n",
    "\n",
    "\n",
    "for pw in password:\n",
    "    consonant_count = 0 # 자음\n",
    "    vowel_count  = 0 # 모음\n",
    "    for i in pw:\n",
    "        if i in \"aeiou\":\n",
    "            vowel_count += 1\n",
    "        else:\n",
    "            consonant_count += 1 \n",
    "    if (vowel_count >= 1) & (consonant_count >=2):\n",
    "        print(\"\".join(pw))\n"
   ]
  }
 ],
 "metadata": {
  "language_info": {
   "name": "python"
  }
 },
 "nbformat": 4,
 "nbformat_minor": 2
}
