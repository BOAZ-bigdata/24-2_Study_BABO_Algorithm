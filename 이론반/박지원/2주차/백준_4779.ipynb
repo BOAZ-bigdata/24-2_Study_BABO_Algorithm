{
 "cells": [
  {
   "cell_type": "markdown",
   "metadata": {},
   "source": [
    "### 1번\n",
    "[백준 4779](https://www.acmicpc.net/problem/4779)\n",
    "\n",
    "문제 해결 아이디어 및 고려할점\n",
    "\n",
    "1. 3등분으로 분할한 후, 가운데 없애는 재귀함수 정의\n",
    "\n",
    "2. 가장 처음 직선의 길이가 1이면 stop\n",
    "\n",
    "- 시간 복잡도 : "
   ]
  },
  {
   "cell_type": "code",
   "execution_count": null,
   "metadata": {},
   "outputs": [
    {
     "name": "stdout",
     "output_type": "stream",
     "text": [
      "-\n",
      "- -\n",
      "- -   - -         - -   - -\n",
      "- -   - -\n"
     ]
    }
   ],
   "source": [
    "def cut(n): # 재귀함수 \n",
    "    if n == 1:\n",
    "        return \"-\"\n",
    "    else:\n",
    "        side = cut(n//3)\n",
    "        mid = \" \"*(n//3)\n",
    "        return side + mid + side \n",
    "\n",
    "\n",
    "while True: # 계속 입력받기 \n",
    "    try:\n",
    "        N = int(input())\n",
    "        res = cut(3**N)\n",
    "        print(res)\n",
    "    except:\n",
    "        break"
   ]
  },
  {
   "cell_type": "markdown",
   "metadata": {},
   "source": [
    "N = 1일때 :\n",
    "- cut(3) -> \n",
    "\n",
    "    side = cut (1) = '-' \\n\n",
    "\n",
    "    mid = \" \" * 1\n",
    "\n",
    "    return \"- -\"\n",
    "\n",
    "N = 2일때 :\n",
    "- cut(3**2) ->\n",
    "\n",
    "    side = cut(3) // 위 반복 \n",
    "\n",
    "    mid = \" \" * 3\n",
    "    \n",
    "    return \"- -  - -\""
   ]
  }
 ],
 "metadata": {
  "language_info": {
   "name": "python"
  }
 },
 "nbformat": 4,
 "nbformat_minor": 2
}
