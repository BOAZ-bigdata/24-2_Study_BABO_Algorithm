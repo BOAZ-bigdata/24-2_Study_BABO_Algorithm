{
 "cells": [
  {
   "cell_type": "markdown",
   "metadata": {},
   "source": [
    "### 3번\n",
    "[프로그래머스 178870](https://school.programmers.co.kr/learn/courses/30/lessons/178870)\n",
    "\n",
    "문제 해결 아이디어 및 고려할점\n",
    "\n",
    "1. list 한칸씩 움직이면서 모든 경우의 수 계산하면 됨 \n",
    "\n",
    "2. 시간복잡도 중요 \n"
   ]
  },
  {
   "cell_type": "markdown",
   "metadata": {},
   "source": [
    "처음 코드 -> 시간 초과 : O(n^2)"
   ]
  },
  {
   "cell_type": "code",
   "execution_count": null,
   "metadata": {},
   "outputs": [],
   "source": [
    "def solution(sequence, k):\n",
    "    \n",
    "    res = [0, len(sequence)]\n",
    "    for i in range(len(sequence)):\n",
    "        tmp = 0\n",
    "        for j in range(i,len(sequence)):\n",
    "            tmp += sequence[j]\n",
    "            if tmp > k : break\n",
    "            elif (tmp == k) & (j - i != res[1] - res[0]) : \n",
    "                res[0] = i\n",
    "                res[1] = j\n",
    "            \n",
    "\n",
    "    answer = []\n",
    "    return res"
   ]
  },
  {
   "cell_type": "markdown",
   "metadata": {},
   "source": [
    "두번째 코드 : 매번 처음부터 sum을 구하는게 아니고 필요에 따라 기존 sum 변형 O(n)"
   ]
  },
  {
   "cell_type": "code",
   "execution_count": null,
   "metadata": {},
   "outputs": [],
   "source": [
    "def solution(sequence, k):\n",
    "    \n",
    "    l = r = 0\n",
    "    res = [0, len(sequence)]\n",
    "    tmp = sequence[0]\n",
    "        \n",
    "    while True:\n",
    "        if tmp < k: \n",
    "            r += 1  # r 한칸 우측으로 \n",
    "            if r == len(sequence): break # 끝 \n",
    "            # 아직 남았다면 더해줌 \n",
    "            tmp += sequence[r]\n",
    "        else : \n",
    "            if tmp == k:\n",
    "                if r - l != res[1] - res[0] :\n",
    "                    res[0] = l\n",
    "                    res[1] = r\n",
    "            tmp -= sequence[l]\n",
    "            l += 1 # l 한칸 넘어감 \n",
    "\n",
    "    return res"
   ]
  }
 ],
 "metadata": {
  "language_info": {
   "name": "python"
  }
 },
 "nbformat": 4,
 "nbformat_minor": 2
}
