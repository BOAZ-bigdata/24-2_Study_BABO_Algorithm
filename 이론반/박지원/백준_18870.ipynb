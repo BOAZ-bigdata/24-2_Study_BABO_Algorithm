{
 "cells": [
  {
   "cell_type": "markdown",
   "metadata": {},
   "source": [
    "### 2번\n",
    "[백준 18870](https://www.acmicpc.net/problem/108870)\n",
    "\n",
    "문제 해결 아이디어 및 고려할점\n",
    "\n",
    "1. N개의 숫자를 받아와서 정렬 및 중복제거 후 dictionary 생성, 기존 list를 key로 해서 반환 \n",
    "\n",
    "2. 시간복잡도를 고려해야하는 문제\n",
    "\n",
    "- 시간 복잡도 계산하면 N + klogk(sorted의 시간복잡도)... = O(NlogN)"
   ]
  },
  {
   "cell_type": "code",
   "execution_count": null,
   "metadata": {},
   "outputs": [],
   "source": [
    "# 입력받아오기\n",
    "N = int(input())\n",
    "li = list(map(int, input().split()))# 공백으로 받아오는거 구분 \n",
    "res = []\n",
    "\n",
    "sorted_li = sorted(set(li)) # 중복제거 및 오름차순 정렬 \n",
    "dic = {v:i for i,v in enumerate(sorted_li)} # dictionary 생성 \n",
    "\n",
    "\n",
    "for i in range(N):\n",
    "    res.append(dic[li[i]])\n",
    "\n",
    "for j in res:\n",
    "    print(j, end=' ') # 공백 포함해서 출력해야함. \n"
   ]
  }
 ],
 "metadata": {
  "language_info": {
   "name": "python"
  }
 },
 "nbformat": 4,
 "nbformat_minor": 2
}
