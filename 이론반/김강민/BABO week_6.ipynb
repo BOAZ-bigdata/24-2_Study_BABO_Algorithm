{
 "cells": [
  {
   "cell_type": "markdown",
   "metadata": {},
   "source": [
    "간선 이어가기 2"
   ]
  },
  {
   "cell_type": "code",
   "execution_count": null,
   "metadata": {},
   "outputs": [],
   "source": [
    "import sys\n",
    "import heapq\n",
    "input = sys.stdin.readline\n",
    "\n",
    "N, M = map(int, input().split(\" \"))\n",
    "graph = [[] for i in range(N+1)]\n",
    "INF = sys.maxsize\n",
    "distance = [INF for i in range(N+1)]\n",
    "for i in range(M):\n",
    "    a, b, val = map(int, input().split(\" \"))\n",
    "    graph[a].append((b, val))\n",
    "    graph[b].append((a, val))\n",
    "finalA, finalB = map(int, input().split(\" \"))\n",
    "distance[finalA] = 0\n",
    "\n",
    "heap = []\n",
    "for i in graph[finalA]:\n",
    "    to, val = i[0], i[1]\n",
    "    heapq.heappush(heap, (to, val))\n",
    "    distance[to] = val\n",
    "\n",
    "while heap:\n",
    "    fr, val = heapq.heappop(heap)\n",
    "    for j in graph[fr]:\n",
    "        to, toval = j[0], j[1]\n",
    "        newVal = val + toval\n",
    "        if distance[to] > newVal:\n",
    "            distance[to] = newVal\n",
    "            heapq.heappush(heap, (to, newVal))\n",
    "\n",
    "print(distance[finalB])"
   ]
  },
  {
   "cell_type": "markdown",
   "metadata": {},
   "source": [
    "서강 그라운드"
   ]
  },
  {
   "cell_type": "code",
   "execution_count": null,
   "metadata": {},
   "outputs": [],
   "source": [
    "import sys\n",
    "INF = int(1e9)\n",
    "n, m, r = map(int, input().split())\n",
    "\n",
    "items = [0] + [int(x) for x in sys.stdin.readline().split()]\n",
    "\n",
    "graph = [[INF] * (n + 1) for _ in range(n + 1)]\n",
    "\n",
    "for _ in range(r):\n",
    "    a, b, l = map(int, sys.stdin.readline().split())\n",
    "    graph[a][b] = l\n",
    "    graph[b][a] = l\n",
    "\n",
    "for i in range(n + 1):\n",
    "    graph[i][i] = 0\n",
    "\n",
    "for k in range(1, n + 1):\n",
    "    for i in range(1, n + 1):\n",
    "        for j in range(1, n + 1):\n",
    "            graph[i][j] = min(graph[i][j], graph[i][k] + graph[k][j])\n",
    "\n",
    "ans = 0\n",
    "for i in range(1, n + 1):\n",
    "    tmp = 0\n",
    "    for j in range(1, n + 1):\n",
    "        if graph[i][j] <= m:\n",
    "            tmp += items[j]\n",
    "\n",
    "    ans = max(ans, tmp)\n",
    "\n",
    "print(ans)"
   ]
  },
  {
   "cell_type": "markdown",
   "metadata": {},
   "source": [
    "숨바꼭질 3"
   ]
  },
  {
   "cell_type": "code",
   "execution_count": null,
   "metadata": {},
   "outputs": [],
   "source": [
    "import heapq\n",
    "INF = int(1e9)\n",
    "\n",
    "N, K = map(int, input().split())\n",
    "distance = [INF] * 100001\n",
    "\n",
    "def dijkstra(start):\n",
    "    distance[start] = 0\n",
    "    q = []\n",
    "    heapq.heappush(q, (0, start))\n",
    "\n",
    "    while q:\n",
    "        dist, now = heapq.heappop(q)\n",
    "        if distance[now] < dist:\n",
    "            continue\n",
    "        for n in (now+1, now-1, now*2):\n",
    "            if n < 0 or n > 100000:\n",
    "                continue\n",
    "\n",
    "            cost = dist\n",
    "            if n != now*2:\n",
    "                cost = dist + 1\n",
    "\n",
    "            if cost < distance[n]:\n",
    "                distance[n] = cost\n",
    "                q.append((cost, n))\n",
    "\n",
    "dijkstra(N)\n",
    "print(distance[K])"
   ]
  },
  {
   "cell_type": "markdown",
   "metadata": {},
   "source": [
    "플로이드"
   ]
  },
  {
   "cell_type": "markdown",
   "metadata": {},
   "source": [
    "import sys\n",
    "INF = int(1e9)\n",
    "N = int(input())\n",
    "m = int(input())\n",
    "bus = []\n",
    "\n",
    "cost = [[INF for _ in range(N + 1)] for _ in range(N + 1)]\n",
    "\n",
    "for i in range(1, N + 1):\n",
    "    for j in range(1, N + 1):\n",
    "        if i == j:\n",
    "            cost[i][j] = 0\n",
    "\n",
    "for i in range(m):\n",
    "    a, b, c = map(int,sys.stdin.readline().rstrip().split())\n",
    "    if cost[a][b] > c:\n",
    "        cost[a][b] = c\n",
    "\n",
    "for k in range(N + 1):\n",
    "    for i in range(N + 1):\n",
    "        for j in range(N + 1):\n",
    "            cost[i][j] = min(cost[i][j],cost[i][k] + cost[k][j])\n",
    "\n",
    "# print(cost)\n",
    "\n",
    "for i in range(1, N + 1):\n",
    "    for j in range(1, N + 1):\n",
    "        if cost[i][j] == int(1e9):\n",
    "            print(0, end=' ')\n",
    "        else:\n",
    "            print(cost[i][j],end=' ')\n",
    "    print()"
   ]
  }
 ],
 "metadata": {
  "kernelspec": {
   "display_name": "conda_cpu",
   "language": "python",
   "name": "python3"
  },
  "language_info": {
   "name": "python",
   "version": "3.12.3"
  }
 },
 "nbformat": 4,
 "nbformat_minor": 2
}
