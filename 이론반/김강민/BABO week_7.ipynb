{
 "cells": [
  {
   "cell_type": "markdown",
   "metadata": {},
   "source": [
    "수 찾기"
   ]
  },
  {
   "cell_type": "code",
   "execution_count": null,
   "metadata": {},
   "outputs": [],
   "source": [
    "def bin_search(start:int, end: int, lst:list,target_value:int):\n",
    "\n",
    "    if start > end:\n",
    "        return 0\n",
    "\n",
    "    else:\n",
    "        mid = (start+end)//2\n",
    "        mid_value = lst[mid]\n",
    "        if mid_value == target_value:\n",
    "            return 1\n",
    "        elif mid_value > target_value:\n",
    "            return bin_search(start,mid-1,lst,target_value)\n",
    "        elif mid_value < target_value:\n",
    "            return bin_search(mid+1,end,lst,target_value)\n",
    "\n",
    "\n",
    "N = int(input())\n",
    "num_lst = list(map(int,input().split()))\n",
    "M = int(input())\n",
    "target_num_lst = list(map(int,input().split()))\n",
    "\n",
    "num_lst.sort()\n",
    "\n",
    "for num in target_num_lst:\n",
    "    print(bin_search(0,N-1,num_lst,num))"
   ]
  },
  {
   "cell_type": "markdown",
   "metadata": {},
   "source": [
    "과자 나눠주기"
   ]
  },
  {
   "cell_type": "code",
   "execution_count": null,
   "metadata": {},
   "outputs": [],
   "source": [
    "M, N = map(int, input().split())\n",
    "\n",
    "arr = list(map(int, input().split()))\n",
    "\n",
    "start = 1\n",
    "end = max(arr) \n",
    "res = 0 \n",
    "\n",
    "while start <= end:\n",
    "    mid = (start + end) // 2\n",
    "    total = 0\n",
    "\n",
    "    for x in arr:\n",
    "        if x >= mid:\n",
    "            total += (x // mid) \n",
    "        \n",
    "\n",
    "    if total >= M:\n",
    "        start = mid + 1 \n",
    "        res = mid \n",
    "    else:\n",
    "        end = mid - 1 \n",
    "\n",
    "print(res)"
   ]
  },
  {
   "cell_type": "markdown",
   "metadata": {},
   "source": [
    "공유기 설치"
   ]
  },
  {
   "cell_type": "code",
   "execution_count": null,
   "metadata": {},
   "outputs": [],
   "source": [
    "N, C = map(int, input().split())\n",
    "\n",
    "arr = []\n",
    "for _ in range(N):\n",
    "    arr.append(int(input()))\n",
    "arr.sort()\n",
    "\n",
    "start = 1 \n",
    "end = arr[-1] - arr[0] \n",
    "result = 0\n",
    "\n",
    "\n",
    "while (start <= end):\n",
    "    mid = (start + end) // 2 \n",
    "    current = arr[0]\n",
    "    count = 1\n",
    "\n",
    "    for i in range(1, len(arr)):\n",
    "        if arr[i] >= current + mid:\n",
    "            count += 1\n",
    "            current = arr[i]\n",
    "\n",
    "    if count >= C:\n",
    "        start = mid + 1\n",
    "        result = mid\n",
    "    else:\n",
    "        end = mid - 1\n",
    "\n",
    "print(result)"
   ]
  }
 ],
 "metadata": {
  "kernelspec": {
   "display_name": "conda_cpu",
   "language": "python",
   "name": "python3"
  },
  "language_info": {
   "name": "python",
   "version": "3.12.3"
  }
 },
 "nbformat": 4,
 "nbformat_minor": 2
}
