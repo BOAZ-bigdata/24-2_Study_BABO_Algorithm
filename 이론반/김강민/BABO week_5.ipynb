{
 "cells": [
  {
   "cell_type": "markdown",
   "metadata": {},
   "source": [
    "1. 회의실 배정"
   ]
  },
  {
   "cell_type": "code",
   "execution_count": null,
   "metadata": {},
   "outputs": [],
   "source": [
    "n = int(input())\n",
    "meetings = []\n",
    "\n",
    "for _ in range(n):\n",
    "    start, end = map(int, input().split())\n",
    "    meetings.append((start, end))\n",
    "\n",
    "meetings.sort(key=lambda x: (x[1], x[0]))\n",
    "\n",
    "count = 0\n",
    "last_end_time = 0\n",
    "\n",
    "for start, end in meetings:\n",
    "    if start >= last_end_time:\n",
    "        count += 1\n",
    "        last_end_time = end\n",
    "\n",
    "print(count)\n",
    "\n"
   ]
  },
  {
   "cell_type": "markdown",
   "metadata": {},
   "source": [
    "2. 주식"
   ]
  },
  {
   "cell_type": "code",
   "execution_count": null,
   "metadata": {},
   "outputs": [],
   "source": [
    "for _ in range(int(input())):\n",
    "    n = int(input())\n",
    "    prices = list(map(int, input().split()))\n",
    "    total_profit = 0 \n",
    "    max_price = prices[-1]\n",
    "    \n",
    "    for i in range(n - 2, -1, -1):\n",
    "        if prices[i] < max_price:  \n",
    "            total_profit += max_price - prices[i]  \n",
    "        else:\n",
    "            max_price = prices[i]  \n",
    "            \n",
    "    print(total_profit)\n",
    "\n"
   ]
  },
  {
   "cell_type": "markdown",
   "metadata": {},
   "source": [
    "3. 연속합"
   ]
  },
  {
   "cell_type": "code",
   "execution_count": null,
   "metadata": {},
   "outputs": [],
   "source": [
    "n = int(input())\n",
    "arr = list(map(int, input().split()))\n",
    "\n",
    "max_sum = arr[0]  \n",
    "current_sum = arr[0]  \n",
    "\n",
    "for i in range(1, n):\n",
    "    current_sum = max(arr[i], current_sum + arr[i])  \n",
    "    max_sum = max(max_sum, current_sum)  \n",
    "\n",
    "print(max_sum)\n",
    "\n"
   ]
  }
 ],
 "metadata": {
  "kernelspec": {
   "display_name": "conda_cpu",
   "language": "python",
   "name": "python3"
  },
  "language_info": {
   "codemirror_mode": {
    "name": "ipython",
    "version": 3
   },
   "file_extension": ".py",
   "mimetype": "text/x-python",
   "name": "python",
   "nbconvert_exporter": "python",
   "pygments_lexer": "ipython3",
   "version": "3.12.3"
  }
 },
 "nbformat": 4,
 "nbformat_minor": 2
}
