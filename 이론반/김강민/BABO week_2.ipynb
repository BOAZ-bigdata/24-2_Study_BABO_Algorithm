{
 "cells": [
  {
   "cell_type": "markdown",
   "metadata": {},
   "source": [
    "1. 칸토어 집합"
   ]
  },
  {
   "cell_type": "code",
   "execution_count": 1,
   "metadata": {},
   "outputs": [
    {
     "name": "stdout",
     "output_type": "stream",
     "text": [
      "-\n",
      "- -\n",
      "- -   - -         - -   - -\n",
      "- -   - -\n"
     ]
    }
   ],
   "source": [
    "def solve(n):\n",
    "    if n == 1:\n",
    "        return \"-\"\n",
    "    else:\n",
    "        left = solve(n // 3)\n",
    "        mid = \" \" * (n // 3)\n",
    "        return left + mid + left\n",
    "\n",
    "while(1):\n",
    "    try:\n",
    "        N = int(input())\n",
    "\n",
    "        pre = solve(3 ** N)\n",
    "        print(pre)\n",
    "    except (ValueError, EOFError):\n",
    "        break"
   ]
  },
  {
   "cell_type": "markdown",
   "metadata": {},
   "source": [
    "2. 부분 수열의 합"
   ]
  },
  {
   "cell_type": "code",
   "execution_count": 4,
   "metadata": {},
   "outputs": [
    {
     "name": "stdout",
     "output_type": "stream",
     "text": [
      "1\n"
     ]
    }
   ],
   "source": [
    "from itertools import combinations\n",
    "\n",
    "N,S = map(int, input().split())\n",
    "arr = list(map(int, input().split()))\n",
    "count = 0\n",
    "for i in range(1, N+1):\n",
    "    comb = combinations(arr, i)\n",
    "\n",
    "    for x in comb:\n",
    "        if sum(x) == S:\n",
    "            count+=1\n",
    "\n",
    "print(count)"
   ]
  },
  {
   "cell_type": "markdown",
   "metadata": {},
   "source": [
    "3. 암호 만들기"
   ]
  },
  {
   "cell_type": "code",
   "execution_count": 6,
   "metadata": {},
   "outputs": [],
   "source": [
    "L,C=map(int,input().split())\n",
    "arr=list(input().split())\n",
    "\n",
    "arr.sort()\n",
    "\n",
    "vowel=['a','e','i','o','u']\n",
    "\n",
    "def count_vowel(X):\n",
    "    count=0\n",
    "    for i in X:\n",
    "        if i in vowel:\n",
    "            count+=1\n",
    "            \n",
    "    return count\n",
    "\n",
    "\n",
    "\n",
    "def make_code(n,code):\n",
    "    if n>C-1:\n",
    "        if (len(code)==L) and (count_vowel(code)) >=1 and (L-count_vowel(code)>=2):\n",
    "            print(code)\n",
    "        return \n",
    "    \n",
    "    make_code(n+1,code+arr[n])\n",
    "    make_code(n+1,code)\n",
    "    \n",
    "make_code(0,'')"
   ]
  },
  {
   "cell_type": "code",
   "execution_count": null,
   "metadata": {},
   "outputs": [],
   "source": []
  }
 ],
 "metadata": {
  "kernelspec": {
   "display_name": "conda_cpu",
   "language": "python",
   "name": "python3"
  },
  "language_info": {
   "codemirror_mode": {
    "name": "ipython",
    "version": 3
   },
   "file_extension": ".py",
   "mimetype": "text/x-python",
   "name": "python",
   "nbconvert_exporter": "python",
   "pygments_lexer": "ipython3",
   "version": "3.12.3"
  }
 },
 "nbformat": 4,
 "nbformat_minor": 2
}
