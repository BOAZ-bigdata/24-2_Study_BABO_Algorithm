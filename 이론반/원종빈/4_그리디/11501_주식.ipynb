{
 "cells": [
  {
   "cell_type": "markdown",
   "metadata": {},
   "source": [
    "그리디인가?\n",
    "- 이전의 결정이 다음의 결정에 영향을 미친다.\n",
    "- 현재의 최선이 다음의 최선이 아니다.\n",
    "- 따라서 그리디가 아니다!\n",
    "\n",
    "- 메모에는 누적 최대 이익을 담는다.\n",
    "\n",
    "3 5 9  1  2\n",
    "0 2 10 10 11  일케 되는건데...\n",
    "\n",
    "1 1 3 1 2\n",
    "0 0 4 4 5\n",
    "\n"
   ]
  },
  {
   "cell_type": "code",
   "execution_count": 1,
   "metadata": {},
   "outputs": [
    {
     "name": "stdout",
     "output_type": "stream",
     "text": [
      "[0, 0, 0]\n"
     ]
    }
   ],
   "source": [
    "n_testcases = int(input())\n",
    "for _ in range(n_testcases):\n",
    "    n_prices = int(input())\n",
    "    price = map(int, input().split())\n",
    "    \n",
    "    memo = [0 for _ in range(n_prices)]\n",
    "    top_price = 0; top_price_day = 0\n",
    "    for day in range(1, n_prices+1):\n",
    "        # 최고가가 갱신된 경우\n",
    "        if top_price < price[day]:\n",
    "            top_price = price[day]; top_price_day = day # 최고가 업데이트하고,\n",
    "            \n",
    "            \n",
    "            \n",
    "            \n",
    "        top_price = max(price[day], top_price)\n",
    "        memo[day] = min(memo[day], price[day] - price[day-1])"
   ]
  },
  {
   "cell_type": "markdown",
   "metadata": {},
   "source": [
    "아 이거 투포인터로도 되는데...\n",
    "그 빗물 문제 비슷한거네....\n",
    "\n",
    "아래 코드 반례\n",
    "1\n",
    "11\n",
    "8 6 7 10 5 6 9 1 2 3 4\n",
    "\n",
    "정답 ) 22\n"
   ]
  },
  {
   "cell_type": "code",
   "execution_count": 26,
   "metadata": {},
   "outputs": [
    {
     "data": {
      "text/plain": [
       "[4, 2, 1]"
      ]
     },
     "execution_count": 26,
     "metadata": {},
     "output_type": "execute_result"
    }
   ],
   "source": [
    "list(map(int, '1 2 4'.split()))[::-1]"
   ]
  },
  {
   "cell_type": "code",
   "execution_count": 23,
   "metadata": {},
   "outputs": [
    {
     "name": "stdout",
     "output_type": "stream",
     "text": [
      "[8, 6, 7, 10, 5, 6, 9, 1, 2, 3, 4]\n",
      "10 3 9 6\n",
      "16\n"
     ]
    }
   ],
   "source": [
    "# import sys; input = lambda: sys.stdin.readline().rstrip()\n",
    "n_testcases = int(input())\n",
    "for _ in range(n_testcases):\n",
    "    n_prices = int(input())\n",
    "    prices = list(map(int, input().split()))\n",
    "    \n",
    "    profit = 0\n",
    "    ## 왼쪽 합계\n",
    "    peak_max = max(prices); peak_day = prices.index(peak_max)\n",
    "    for day in range(peak_day):\n",
    "        profit += peak_max - prices[day]\n",
    "    \n",
    "    ## peak day 이후로도 날짜가 남은 경우에만, 오른쪽 합계를 추가로 더한다.\n",
    "    if prices[peak_day+1:]:    \n",
    "        right_max = max(prices[peak_day+1:]); right_max_day = n_prices - 1 - list(reversed(prices)).index(right_max)\n",
    "        for day in range(peak_day+1, right_max_day):\n",
    "            profit += right_max - prices[day]\n",
    "\n",
    "    print(prices)\n",
    "    print(peak_max, peak_day, right_max, right_max_day)\n",
    "    print(profit)"
   ]
  },
  {
   "cell_type": "markdown",
   "metadata": {},
   "source": [
    "최고값이 나오면, 그때까지 합\n",
    "이후 최고값 초기화\n",
    "다시 최고값이 나오면 그떄까지 합\n",
    "\n",
    "근데 만약 prices를 reverse하면? 최고값을 초기화할 필요가 없다\n",
    "\n",
    "R 6 7 10\n",
    "\n",
    "R 9 5 3\n",
    "\n",
    "R 2 1 1 4 3 2 5 2 1\n",
    "  0 1 1 0 1 2 0 3 4 = 12\n",
    "  1 2 5 2 3 4 1 1 2\n",
    "  4 3 0 2 1 0 1 1 0 = 12 \n",
    "\n",
    "R 2 1 3 1 1"
   ]
  },
  {
   "cell_type": "code",
   "execution_count": 28,
   "metadata": {},
   "outputs": [
    {
     "name": "stdout",
     "output_type": "stream",
     "text": [
      "22\n"
     ]
    }
   ],
   "source": [
    "# import sys; input = lambda: sys.stdin.readline().rstrip() # 되려 안쓰는 게 더 빠르넹\n",
    "n_testcases = int(input())\n",
    "for _ in range(n_testcases):\n",
    "    n_prices = int(input())\n",
    "    prices = list(map(int, input().split()))[::-1]\n",
    "    \n",
    "    profit = 0\n",
    "    peak_price = prices[0]\n",
    "    for day in range(len(prices)):\n",
    "        if prices[day] > peak_price:\n",
    "            peak_price = prices[day]\n",
    "            \n",
    "        else:\n",
    "            profit += peak_price - prices[day]\n",
    "        \n",
    "    print(profit)"
   ]
  }
 ],
 "metadata": {
  "kernelspec": {
   "display_name": "Python 3",
   "language": "python",
   "name": "python3"
  },
  "language_info": {
   "codemirror_mode": {
    "name": "ipython",
    "version": 3
   },
   "file_extension": ".py",
   "mimetype": "text/x-python",
   "name": "python",
   "nbconvert_exporter": "python",
   "pygments_lexer": "ipython3",
   "version": "3.10.11"
  }
 },
 "nbformat": 4,
 "nbformat_minor": 2
}
