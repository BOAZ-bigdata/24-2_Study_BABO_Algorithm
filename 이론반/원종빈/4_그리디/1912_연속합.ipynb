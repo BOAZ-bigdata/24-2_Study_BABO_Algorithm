{
 "cells": [
  {
   "cell_type": "markdown",
   "metadata": {},
   "source": [
    "~~연속수열이기에, 앞의 결정이 뒤의 결정에 영향을 주지 못한다. 따라서 그리디.~~\n",
    "\n",
    "~~배열 순회하면서부터 max값을 갱신해나간다.~~\n",
    "\n",
    "10 10\n",
    "0  10\n",
    "3  10\n",
    "4  10\n",
    "9  10\n",
    "15 15\n",
    "0  15\n",
    "12 15\n",
    "33 33\n",
    "0  33\n"
   ]
  },
  {
   "cell_type": "markdown",
   "metadata": {},
   "source": [
    "그리디 맞긴한데,"
   ]
  },
  {
   "cell_type": "code",
   "execution_count": 38,
   "metadata": {},
   "outputs": [
    {
     "name": "stdout",
     "output_type": "stream",
     "text": [
      "[10, -100, -2, -3, 1, 2, 3, 4, 5, 6, -1000]\n",
      "0 10\n",
      "10 0\n",
      "10 0\n",
      "10 0\n",
      "10 1\n",
      "10 3\n",
      "10 6\n",
      "10 10\n",
      "10 15\n",
      "15 21\n",
      "21 0\n",
      "21\n"
     ]
    }
   ],
   "source": [
    "n_nums = int(input())\n",
    "nums = list(map(int, input().split()))\n",
    "\n",
    "res = 0\n",
    "temp = 0\n",
    "negative_nums_cnt = 0\n",
    "for num in nums:\n",
    "    if num >= 0:\n",
    "        temp += num\n",
    "        \n",
    "    else:   # 음수를 만난 경우,\n",
    "        negative_nums_cnt += 1\n",
    "        if temp + num > 0:  # 음수 num의 절댓값이 작아서, 음수값을 더한 이후에도 양수인 경우에는 더한다.\n",
    "            temp += num     \n",
    "        else:\n",
    "            temp = 0      # 음수 num의 절댓값이 커서, 음수값을 더하면 0 이하인 경우에는 굳이 더할 이유가 없이 다시 시작.\n",
    "    \n",
    "    \n",
    "    res = max(res, temp)\n",
    "    \n",
    "\n",
    "## 결과 출력\n",
    "if negative_nums_cnt == n_nums:   ## 만약 모든 수가 음수인 경우, 음수 중 최대를 뽑는다\n",
    "    print(max(nums))\n",
    "    \n",
    "else:\n",
    "    print(res)"
   ]
  }
 ],
 "metadata": {
  "kernelspec": {
   "display_name": "Python 3",
   "language": "python",
   "name": "python3"
  },
  "language_info": {
   "codemirror_mode": {
    "name": "ipython",
    "version": 3
   },
   "file_extension": ".py",
   "mimetype": "text/x-python",
   "name": "python",
   "nbconvert_exporter": "python",
   "pygments_lexer": "ipython3",
   "version": "3.10.11"
  }
 },
 "nbformat": 4,
 "nbformat_minor": 2
}
